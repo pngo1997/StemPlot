{
 "cells": [
  {
   "cell_type": "markdown",
   "id": "a1e7fe81-64f1-41c5-90ff-6380b54a7863",
   "metadata": {},
   "source": [
    "#### Assumptions:"
   ]
  },
  {
   "cell_type": "markdown",
   "id": "6d012ee5-8b04-477e-8292-2c5537fc651f",
   "metadata": {},
   "source": [
    "User may enter capitalized input when they decide whether to continue/exit the program. \n",
    "User may chose other number for filename rather than 1, 2, or 3."
   ]
  },
  {
   "cell_type": "markdown",
   "id": "47d8827e-1259-497b-8837-94cdf567a68e",
   "metadata": {},
   "source": [
    "#### How (in what data structure) you store the chart?"
   ]
  },
  {
   "cell_type": "markdown",
   "id": "4f2bd814-5c9c-4fcd-a66f-205ebe0a3461",
   "metadata": {},
   "source": [
    "I store the chart using dictionary."
   ]
  },
  {
   "cell_type": "markdown",
   "id": "a2fe1b38-7027-43ab-8099-23fbbac09979",
   "metadata": {},
   "source": [
    "#### Is it an efficient way?"
   ]
  },
  {
   "cell_type": "markdown",
   "id": "f2f1a3d1-4672-49be-b51a-ae14019bed10",
   "metadata": {},
   "source": [
    "Yes it is because we're using stem-and-leaf display. Stem would be key and leaves are value. This is the best approach to group multiple values under one key."
   ]
  },
  {
   "cell_type": "markdown",
   "id": "6b2b59f0-3e04-4aae-b407-2fde51c6083d",
   "metadata": {},
   "source": [
    "#### Alternative way: Not that I can think of."
   ]
  },
  {
   "cell_type": "markdown",
   "id": "f7b5cef9-0df3-4186-a42c-f3d2c17efed1",
   "metadata": {},
   "source": [
    "#### How did you obtain the stem and the leaf of a number: "
   ]
  },
  {
   "cell_type": "markdown",
   "id": "fed697a4-1913-4538-82af-0037e8bdf5db",
   "metadata": {},
   "source": [
    "After open and read the chosen file, I strip all before and after characters of each string, then convert them to into integer. Then I initiate a dictionary and iterate over each number in the dataset. \n",
    "For Leaf (value), it is the residual of the number after being divided by 10. For Stem (key), it is obtained by subtracting the number by \"Leaf\", and divided by 10. Results all leading digit(s) before the last-two final digits.\n",
    "Then I will append Leaf based on whether Stem is already available in the dictionary.\n",
    "NEW THING I LEARNT: for new Stem value, Leaf value will be put as a list. So that later, new Leaf value(s) correspond with this Stem value can be added. "
   ]
  },
  {
   "cell_type": "markdown",
   "id": "a015150b-0eac-4fb7-8f69-4e62fa0d0b2d",
   "metadata": {},
   "source": [
    "#### Can your code handle data with mixed number of digit?"
   ]
  },
  {
   "cell_type": "markdown",
   "id": "4398653a-4073-4c8c-918a-0175a5ef406e",
   "metadata": {},
   "source": [
    "Yes, since the number is mod by 10; and both stem & key are calculated/sorted. "
   ]
  },
  {
   "cell_type": "code",
   "execution_count": 662,
   "id": "a9757cea-fc7f-4eb1-b07c-b334ed9e942d",
   "metadata": {},
   "outputs": [],
   "source": [
    "def main():\n",
    "    '''Main funtion that connecting other functions.'''\n",
    "    message = hiUser()\n",
    "    message = stemLeaf()\n",
    "    message = wishExit()"
   ]
  },
  {
   "cell_type": "code",
   "execution_count": 663,
   "id": "375ab2e7-e443-48f5-9b49-122febe0675b",
   "metadata": {},
   "outputs": [
    {
     "name": "stdout",
     "output_type": "stream",
     "text": [
      "Hello, welcome to the Stem-and-Leaf program.\n",
      "The program takes input decision from user between three quantitative datasets, and displays a corresponding stem-and-leaf-plot.\n",
      "User can exit the program as they wish anytime by pressing the \"X\" button.\n"
     ]
    },
    {
     "name": "stdin",
     "output_type": "stream",
     "text": [
      "Please choose file 1, 2, or 3 (only enter number, no character/whitespace): 1\n"
     ]
    },
    {
     "name": "stdout",
     "output_type": "stream",
     "text": [
      "Stem-and-Leaf plot\n",
      "1 | 2 4 5 5 6\n",
      "2 | 0 0 0 2 2 3 3 5 5 6 7 9 9\n",
      "3 | 0 0 1 1 1 2 2 3 4 7 7 8 8 8\n",
      "4 | 0 0 1 1 1 1 2 3 4 4 5 5 5 6 7 9 9 9\n",
      "5 | 0 0 1 2 2 2 2 2 3 3 3 3 4 7 7 8 8 9 9 9\n",
      "6 | 0 0 0 1 1 2 2 3 4 4 4 6 7\n",
      "7 | 0 0 2 2 2 2 2 3 4 8\n",
      "8 | 0 4 5\n",
      "9 | 0 1 8 9\n",
      "\n"
     ]
    },
    {
     "name": "stdin",
     "output_type": "stream",
     "text": [
      "Please press any key to continue, or \"X\" to exit: 5\n",
      "Please choose file 1, 2, or 3 (only enter number, no character/whitespace): 2\n"
     ]
    },
    {
     "name": "stdout",
     "output_type": "stream",
     "text": [
      "Stem-and-Leaf plot\n",
      "1 | 8\n",
      "2 | 8 8\n",
      "3 | 2 9 9\n",
      "4 | 2 3 5 6 7 8\n",
      "5 | 0 2 2 3 3 3 3 4 4 4 5 5 5 5 5 7 7 9 9\n",
      "6 | 2 5 5 6 6 6 7\n",
      "7 | 2 2 2 3 4 5 5 5 7\n",
      "8 | 5 6\n",
      "10 | 1\n",
      "11 | 1 9 9\n",
      "12 | 1 3 3 4 5 5 6 7 8\n",
      "13 | 1 1 2 3 5 5 5 7 7 7\n",
      "14 | 0 1 1 2 2 3 3 4 5 6 6 7 9\n",
      "15 | 0 2 3 5 5 6 7 8 8\n",
      "16 | 0 2 4 4 9\n",
      "17 | 2\n",
      "\n"
     ]
    },
    {
     "name": "stdin",
     "output_type": "stream",
     "text": [
      "Please press any key to continue, or \"X\" to exit: 7\n",
      "Please choose file 1, 2, or 3 (only enter number, no character/whitespace): -9\n"
     ]
    },
    {
     "name": "stdout",
     "output_type": "stream",
     "text": [
      "Input not applicable, please choose again between 1, 2 and 3. Thank you.\n"
     ]
    },
    {
     "name": "stdin",
     "output_type": "stream",
     "text": [
      "Please choose file 1, 2, or 3 (only enter number, no character/whitespace): 4\n"
     ]
    },
    {
     "name": "stdout",
     "output_type": "stream",
     "text": [
      "Input not applicable, please choose again between 1, 2 and 3. Thank you.\n"
     ]
    },
    {
     "name": "stdin",
     "output_type": "stream",
     "text": [
      "Please choose file 1, 2, or 3 (only enter number, no character/whitespace): 5\n"
     ]
    },
    {
     "name": "stdout",
     "output_type": "stream",
     "text": [
      "Input not applicable, please choose again between 1, 2 and 3. Thank you.\n"
     ]
    },
    {
     "name": "stdin",
     "output_type": "stream",
     "text": [
      "Please choose file 1, 2, or 3 (only enter number, no character/whitespace): 3\n"
     ]
    },
    {
     "name": "stdout",
     "output_type": "stream",
     "text": [
      "Stem-and-Leaf plot\n",
      "99 | 8\n",
      "100 | 9\n",
      "101 | 4 4 6 6 7 7\n",
      "102 | 3 5 9 9\n",
      "103 | 1 1 2 2 2 3 4 5 5 5 6 6 7 7 7 8 9 9 9\n",
      "104 | 0 0 0 0 0 0 0 1 3 4 4 5 5 5 6 6 6 7 7 8 8 8 9\n",
      "105 | 0 1 1 4 5 5 6 6 6 7 7 8 8 9\n",
      "106 | 0 0 0 1 1 1 3 6 9 9\n",
      "107 | 0 1 3 3 5 5 9 9\n",
      "108 | 0 0 1 3 5 6 7 8\n",
      "109 | 0 5 5 8 9\n",
      "110 | 2\n",
      "\n"
     ]
    },
    {
     "name": "stdin",
     "output_type": "stream",
     "text": [
      "Please press any key to continue, or \"X\" to exit: x\n"
     ]
    },
    {
     "name": "stdout",
     "output_type": "stream",
     "text": [
      "THE END. \n",
      "Thank you for using the program!\n"
     ]
    }
   ],
   "source": [
    "main()"
   ]
  },
  {
   "cell_type": "code",
   "execution_count": 664,
   "id": "83a4aee6-68c6-4dd7-a46a-a817ae7b423f",
   "metadata": {},
   "outputs": [],
   "source": [
    "def hiUser():\n",
    "    '''Greeting users entering the program and asking user to choose file number.'''\n",
    "    print(\"Hello, welcome to the Stem-and-Leaf program.\")\n",
    "    print(\"The program takes input decision from user between three quantitative datasets, \"\\\n",
    "          \"and displays a corresponding stem-and-leaf-plot.\")\n",
    "    print('User can exit the program as they wish anytime by pressing the \"X\" button.')\n",
    "    #Greet users and give a brief introduction about the program, followed by how user can exit the program."
   ]
  },
  {
   "cell_type": "code",
   "execution_count": 665,
   "id": "d0141301-4907-41f8-82f5-b34b9e3af6ed",
   "metadata": {},
   "outputs": [
    {
     "name": "stdout",
     "output_type": "stream",
     "text": [
      "Hello, welcome to the Stem-and-Leaf program.\n",
      "The program takes input decision from user between three quantitative datasets, and displays a corresponding stem-and-leaf-plot.\n",
      "User can exit the program as they wish anytime by pressing the \"X\" button.\n"
     ]
    }
   ],
   "source": [
    "hiUser()"
   ]
  },
  {
   "cell_type": "code",
   "execution_count": 666,
   "id": "776c4d61-a375-49cf-bf55-d64af828ef6e",
   "metadata": {},
   "outputs": [],
   "source": [
    "def getInput():\n",
    "    '''Asking user to choose file number. User must choose between three available files.'''\n",
    "    filename1 = \"C:/Users/maimu/OneDrive/Documents/DePaul/DSC 430/StemAndLeaf1.txt\"\n",
    "    filename2 = \"C:/Users/maimu/OneDrive/Documents/DePaul/DSC 430/StemAndLeaf2.txt\"\n",
    "    filename3 = \"C:/Users/maimu/OneDrive/Documents/DePaul/DSC 430/StemAndLeaf3.txt\"\n",
    "    #Specify full path for each file #1, #2 and #3.\n",
    "    \n",
    "    while True:\n",
    "        file = eval(input(\"Please choose file 1, 2, or 3 (only enter number, no character/whitespace):\"))\n",
    "        #Asking user to choose between three file options, following with a prompt to guide users answering input.\n",
    "        #Using \"eval\" to convert string to number.\n",
    "        if file == 1: \n",
    "            filename = filename1\n",
    "            break            \n",
    "            #Using if statement to match user's response to file #1, #2 and #3.\n",
    "            #If user enters \"1\". The program will match with \"StemAndLeaf1.txt\" file.\n",
    "        elif file == 2:\n",
    "            filename = filename2\n",
    "            break\n",
    "        #If user enters \"2\". The program will match with \"StemAndLeaf2.txt\" file.\n",
    "        elif file == 3:\n",
    "            filename = filename3\n",
    "            break\n",
    "        #If user enters \"3\". The program will match with \"StemAndLeaf3.txt\" file.\n",
    "        else: print (\"Input not applicable, please choose again between 1, 2 and 3. Thank you.\")\n",
    "        #If not file #1, #2, or #3. User will be asked again to choose correctly.\n",
    "    return filename"
   ]
  },
  {
   "cell_type": "code",
   "execution_count": 667,
   "id": "72e89739-5270-4c77-89af-e577c768eb4d",
   "metadata": {},
   "outputs": [
    {
     "name": "stdin",
     "output_type": "stream",
     "text": [
      "Please choose file 1, 2, or 3 (only enter number, no character/whitespace): 2\n"
     ]
    },
    {
     "data": {
      "text/plain": [
       "'C:/Users/maimu/OneDrive/Documents/DePaul/DSC 430/StemAndLeaf2.txt'"
      ]
     },
     "execution_count": 667,
     "metadata": {},
     "output_type": "execute_result"
    }
   ],
   "source": [
    "getInput()"
   ]
  },
  {
   "cell_type": "code",
   "execution_count": 668,
   "id": "e0ef570f-f554-4b3c-9a75-ba2344ea8777",
   "metadata": {},
   "outputs": [],
   "source": [
    "def stemLeaf():\n",
    "    '''Take dictionary data to displays corresponding stem-and-leaf plot.'''\n",
    "    dictData = readFile()\n",
    "    # Assign new variable called \"dictData\" using data output from readFile(). \n",
    "    print(\"Stem-and-Leaf plot\")\n",
    "    #Introduction of the plot.\n",
    "    \n",
    "    for key, value in sorted(dictData.items()):\n",
    "    #Iterate over each pair of (key,value).\n",
    "        masterLeaf = \"|\"\n",
    "        #Assign new variable masterLeaf for sorted leaves (requirement). \n",
    "        #Starting with a vertical-hyphen to separate stem and leaf.\n",
    "        for m in sorted(value):\n",
    "            #Iterate over each leaf(value). hHave it sorted as well.\n",
    "            masterLeaf = masterLeaf+\" \"+str(m)\n",
    "            #masterLeaf variable accumunlates new leaf(value).\n",
    "        print (key, masterLeaf)\n",
    "        #print key with correspnding sorted leaf. \n",
    "    print()"
   ]
  },
  {
   "cell_type": "code",
   "execution_count": 669,
   "id": "abe7c081-188e-4f72-b822-1727c376877d",
   "metadata": {},
   "outputs": [
    {
     "name": "stdin",
     "output_type": "stream",
     "text": [
      "Please choose file 1, 2, or 3 (only enter number, no character/whitespace): 2\n"
     ]
    },
    {
     "name": "stdout",
     "output_type": "stream",
     "text": [
      "Stem-and-Leaf plot\n",
      "1 | 8\n",
      "2 | 8 8\n",
      "3 | 2 9 9\n",
      "4 | 2 3 5 6 7 8\n",
      "5 | 0 2 2 3 3 3 3 4 4 4 5 5 5 5 5 7 7 9 9\n",
      "6 | 2 5 5 6 6 6 7\n",
      "7 | 2 2 2 3 4 5 5 5 7\n",
      "8 | 5 6\n",
      "10 | 1\n",
      "11 | 1 9 9\n",
      "12 | 1 3 3 4 5 5 6 7 8\n",
      "13 | 1 1 2 3 5 5 5 7 7 7\n",
      "14 | 0 1 1 2 2 3 3 4 5 6 6 7 9\n",
      "15 | 0 2 3 5 5 6 7 8 8\n",
      "16 | 0 2 4 4 9\n",
      "17 | 2\n",
      "\n"
     ]
    }
   ],
   "source": [
    "stemLeaf()"
   ]
  },
  {
   "cell_type": "code",
   "execution_count": 670,
   "id": "1fb3ed4c-902d-4496-8a66-f39a2b62995f",
   "metadata": {
    "jp-MarkdownHeadingCollapsed": true,
    "tags": []
   },
   "outputs": [],
   "source": [
    "def readFile():\n",
    "    '''Read the chosen datafile and store them as dictionary dataset structure to serve for Stem-and Leaf plot.'''\n",
    "    filename = getInput()\n",
    "    with open (filename) as infile:\n",
    "    #Open the chosen file, using \"filename\" corresponds to user's choice.\n",
    "        contents = infile.readlines()\n",
    "        #Read the file using readlines() method.\n",
    "        #Readlines() method returns the entire contents of the entire file in the form of a list of strings.\n",
    "        infile.close()\n",
    "        #Close the file. Should always do.\n",
    "        for i in range (0, len(contents)):\n",
    "        #Using for-loop to iterate each string over the returning list. \n",
    "        #The range would be from 0 to the length of the list, this will iterate over each string in the list.\n",
    "            num = int(contents[i].strip())\n",
    "            #Assign each string to \"num\" variable, since this is a number. \n",
    "            #Using the strip() method to remove any character before or after the number. \n",
    "            #Convert string to integer for stem-and-leaf plot later.\n",
    "            \n",
    "    data = {}\n",
    "    #Initiate a dictionary dataset to store stem and leaf.\n",
    "    for num in contents:\n",
    "    #Iterate over each number in the \"contents\" dataset.\n",
    "        leaf = int(num)%10\n",
    "        #Leaf is the residual of the number after being divided by 10.\n",
    "        stem = int((int(num)-leaf)/10)\n",
    "        #Stem is obtained by subtracting the number by \"Leaf\", and divided by 10. Results all leading digit(s) before the last-two final digits.\n",
    "        if stem in data:\n",
    "        #Check whether Stem number(s) is already in dictionary \"data\".\n",
    "            data[stem].append(leaf)\n",
    "            #If it is, then adding Leaf value to the corresponding Stem key to dictionary \"data\".\n",
    "        else: data[stem]=[leaf]\n",
    "        #If it is not, then adding both Leaf value, and corresponding Stem key to dictionary \"data\".\n",
    "        #Since this is first time adding the Stem value, Leaf value will be put as a list. \n",
    "        #So that later, new Leaf value(s) correspond with this Stem value can be added. \n",
    "    return data\n",
    "    #Return data as disctionary form."
   ]
  },
  {
   "cell_type": "code",
   "execution_count": 671,
   "id": "36f4ef61-b657-4f47-ad03-5b92c682fa5f",
   "metadata": {},
   "outputs": [
    {
     "name": "stdin",
     "output_type": "stream",
     "text": [
      "Please choose file 1, 2, or 3 (only enter number, no character/whitespace): 2\n"
     ]
    },
    {
     "data": {
      "text/plain": [
       "{3: [9, 2, 9],\n",
       " 7: [5, 5, 4, 2, 2, 2, 3, 5, 7],\n",
       " 5: [9, 4, 5, 3, 2, 3, 7, 5, 5, 3, 5, 0, 3, 4, 2, 5, 4, 7, 9],\n",
       " 6: [6, 5, 6, 2, 5, 6, 7],\n",
       " 13: [7, 1, 5, 7, 5, 2, 5, 3, 7, 1],\n",
       " 15: [2, 6, 8, 5, 7, 3, 0, 5, 8],\n",
       " 14: [7, 0, 3, 4, 1, 6, 2, 6, 3, 9, 1, 2, 5],\n",
       " 12: [6, 5, 3, 1, 3, 4, 5, 8, 7],\n",
       " 16: [2, 0, 9, 4, 4],\n",
       " 8: [5, 6],\n",
       " 4: [3, 5, 6, 7, 2, 8],\n",
       " 1: [8],\n",
       " 11: [1, 9, 9],\n",
       " 10: [1],\n",
       " 2: [8, 8],\n",
       " 17: [2]}"
      ]
     },
     "execution_count": 671,
     "metadata": {},
     "output_type": "execute_result"
    }
   ],
   "source": [
    "readFile()"
   ]
  },
  {
   "cell_type": "code",
   "execution_count": 672,
   "id": "fabd31ca-5916-417b-aa72-ddd1da722f61",
   "metadata": {},
   "outputs": [],
   "source": [
    "def wishExit():\n",
    "    '''Asking user if they wish to exit or continue the program.'''\n",
    "    choice = input('Please press any key to continue, or \"X\" to exit:')\n",
    "    #Asking user if they want to continue or exit to program.\n",
    "    while choice not in 'Xx':\n",
    "    #If user choose to continue the program. This loop will keep repeating until user wish to exit. \n",
    "        stemLeaf()\n",
    "        #Using steamLeaf() function to start over.\n",
    "        choice = input('Please press any key to continue, or \"X\" to exit:')\n",
    "        #Asking user again if they want to continue or exit to program.\n",
    "    else: print (\"THE END. \\nThank you for using the program!\")\n",
    "    #When user choose to exit the program.The end."
   ]
  },
  {
   "cell_type": "code",
   "execution_count": 673,
   "id": "52a2e4cc-c437-45d4-be31-5cb9669ad657",
   "metadata": {},
   "outputs": [
    {
     "name": "stdin",
     "output_type": "stream",
     "text": [
      "Please press any key to continue, or \"X\" to exit: x\n"
     ]
    },
    {
     "name": "stdout",
     "output_type": "stream",
     "text": [
      "THE END. \n",
      "Thank you for using the program!\n"
     ]
    }
   ],
   "source": [
    "wishExit()"
   ]
  },
  {
   "cell_type": "code",
   "execution_count": 674,
   "id": "b3c41b2e-03db-41c5-b766-9a6f88922226",
   "metadata": {},
   "outputs": [
    {
     "name": "stdin",
     "output_type": "stream",
     "text": [
      "Please press any key to continue, or \"X\" to exit: 2\n",
      "Please choose file 1, 2, or 3 (only enter number, no character/whitespace): 6\n"
     ]
    },
    {
     "name": "stdout",
     "output_type": "stream",
     "text": [
      "Input not applicable, please choose again between 1, 2 and 3. Thank you.\n"
     ]
    },
    {
     "name": "stdin",
     "output_type": "stream",
     "text": [
      "Please choose file 1, 2, or 3 (only enter number, no character/whitespace): 2\n"
     ]
    },
    {
     "name": "stdout",
     "output_type": "stream",
     "text": [
      "Stem-and-Leaf plot\n",
      "1 | 8\n",
      "2 | 8 8\n",
      "3 | 2 9 9\n",
      "4 | 2 3 5 6 7 8\n",
      "5 | 0 2 2 3 3 3 3 4 4 4 5 5 5 5 5 7 7 9 9\n",
      "6 | 2 5 5 6 6 6 7\n",
      "7 | 2 2 2 3 4 5 5 5 7\n",
      "8 | 5 6\n",
      "10 | 1\n",
      "11 | 1 9 9\n",
      "12 | 1 3 3 4 5 5 6 7 8\n",
      "13 | 1 1 2 3 5 5 5 7 7 7\n",
      "14 | 0 1 1 2 2 3 3 4 5 6 6 7 9\n",
      "15 | 0 2 3 5 5 6 7 8 8\n",
      "16 | 0 2 4 4 9\n",
      "17 | 2\n",
      "\n"
     ]
    },
    {
     "name": "stdin",
     "output_type": "stream",
     "text": [
      "Please press any key to continue, or \"X\" to exit: X\n"
     ]
    },
    {
     "name": "stdout",
     "output_type": "stream",
     "text": [
      "THE END. \n",
      "Thank you for using the program!\n"
     ]
    }
   ],
   "source": [
    "wishExit()"
   ]
  }
 ],
 "metadata": {
  "kernelspec": {
   "display_name": "Python 3 (ipykernel)",
   "language": "python",
   "name": "python3"
  },
  "language_info": {
   "codemirror_mode": {
    "name": "ipython",
    "version": 3
   },
   "file_extension": ".py",
   "mimetype": "text/x-python",
   "name": "python",
   "nbconvert_exporter": "python",
   "pygments_lexer": "ipython3",
   "version": "3.9.13"
  }
 },
 "nbformat": 4,
 "nbformat_minor": 5
}
